{
  "cells": [
    {
      "cell_type": "markdown",
      "source": [
        "#Load Data"
      ],
      "metadata": {
        "id": "UspN0mlTncjI"
      }
    },
    {
      "cell_type": "code",
      "execution_count": null,
      "metadata": {
        "colab": {
          "base_uri": "https://localhost:8080/",
          "height": 423
        },
        "id": "mVrIhv91xtWe",
        "outputId": "9c940a89-6d44-4202-9cd7-ec20d55c86f0"
      },
      "outputs": [
        {
          "output_type": "execute_result",
          "data": {
            "text/plain": [
              "     customer_id  age  gender  income  loyalty  churn creation_time\n",
              "0           2824   19  Female   52098        4      0    2020-12-27\n",
              "1           9935   23  Female   24165        1      0    2021-08-22\n",
              "2           4811   50    Male   93563        4      1    2021-08-26\n",
              "3           8359   55  Female  126093        1      0    2022-10-14\n",
              "4           6574   35    Male   48221        6      0    2020-12-07\n",
              "..           ...  ...     ...     ...      ...    ...           ...\n",
              "495         9231   38  Female   55446        3      0    2022-03-16\n",
              "496         4588   19  Female   27679        8      1    2021-09-20\n",
              "497         3615   24    Male  106096        4      1    2023-05-29\n",
              "498         1916   32  Female   66504        3      0    2021-09-28\n",
              "499         6210   65  Female  139797       10      0    2022-05-22\n",
              "\n",
              "[500 rows x 7 columns]"
            ],
            "text/html": [
              "\n",
              "  <div id=\"df-22db4dfe-f01a-4cee-8245-9279030f09ed\">\n",
              "    <div class=\"colab-df-container\">\n",
              "      <div>\n",
              "<style scoped>\n",
              "    .dataframe tbody tr th:only-of-type {\n",
              "        vertical-align: middle;\n",
              "    }\n",
              "\n",
              "    .dataframe tbody tr th {\n",
              "        vertical-align: top;\n",
              "    }\n",
              "\n",
              "    .dataframe thead th {\n",
              "        text-align: right;\n",
              "    }\n",
              "</style>\n",
              "<table border=\"1\" class=\"dataframe\">\n",
              "  <thead>\n",
              "    <tr style=\"text-align: right;\">\n",
              "      <th></th>\n",
              "      <th>customer_id</th>\n",
              "      <th>age</th>\n",
              "      <th>gender</th>\n",
              "      <th>income</th>\n",
              "      <th>loyalty</th>\n",
              "      <th>churn</th>\n",
              "      <th>creation_time</th>\n",
              "    </tr>\n",
              "  </thead>\n",
              "  <tbody>\n",
              "    <tr>\n",
              "      <th>0</th>\n",
              "      <td>2824</td>\n",
              "      <td>19</td>\n",
              "      <td>Female</td>\n",
              "      <td>52098</td>\n",
              "      <td>4</td>\n",
              "      <td>0</td>\n",
              "      <td>2020-12-27</td>\n",
              "    </tr>\n",
              "    <tr>\n",
              "      <th>1</th>\n",
              "      <td>9935</td>\n",
              "      <td>23</td>\n",
              "      <td>Female</td>\n",
              "      <td>24165</td>\n",
              "      <td>1</td>\n",
              "      <td>0</td>\n",
              "      <td>2021-08-22</td>\n",
              "    </tr>\n",
              "    <tr>\n",
              "      <th>2</th>\n",
              "      <td>4811</td>\n",
              "      <td>50</td>\n",
              "      <td>Male</td>\n",
              "      <td>93563</td>\n",
              "      <td>4</td>\n",
              "      <td>1</td>\n",
              "      <td>2021-08-26</td>\n",
              "    </tr>\n",
              "    <tr>\n",
              "      <th>3</th>\n",
              "      <td>8359</td>\n",
              "      <td>55</td>\n",
              "      <td>Female</td>\n",
              "      <td>126093</td>\n",
              "      <td>1</td>\n",
              "      <td>0</td>\n",
              "      <td>2022-10-14</td>\n",
              "    </tr>\n",
              "    <tr>\n",
              "      <th>4</th>\n",
              "      <td>6574</td>\n",
              "      <td>35</td>\n",
              "      <td>Male</td>\n",
              "      <td>48221</td>\n",
              "      <td>6</td>\n",
              "      <td>0</td>\n",
              "      <td>2020-12-07</td>\n",
              "    </tr>\n",
              "    <tr>\n",
              "      <th>...</th>\n",
              "      <td>...</td>\n",
              "      <td>...</td>\n",
              "      <td>...</td>\n",
              "      <td>...</td>\n",
              "      <td>...</td>\n",
              "      <td>...</td>\n",
              "      <td>...</td>\n",
              "    </tr>\n",
              "    <tr>\n",
              "      <th>495</th>\n",
              "      <td>9231</td>\n",
              "      <td>38</td>\n",
              "      <td>Female</td>\n",
              "      <td>55446</td>\n",
              "      <td>3</td>\n",
              "      <td>0</td>\n",
              "      <td>2022-03-16</td>\n",
              "    </tr>\n",
              "    <tr>\n",
              "      <th>496</th>\n",
              "      <td>4588</td>\n",
              "      <td>19</td>\n",
              "      <td>Female</td>\n",
              "      <td>27679</td>\n",
              "      <td>8</td>\n",
              "      <td>1</td>\n",
              "      <td>2021-09-20</td>\n",
              "    </tr>\n",
              "    <tr>\n",
              "      <th>497</th>\n",
              "      <td>3615</td>\n",
              "      <td>24</td>\n",
              "      <td>Male</td>\n",
              "      <td>106096</td>\n",
              "      <td>4</td>\n",
              "      <td>1</td>\n",
              "      <td>2023-05-29</td>\n",
              "    </tr>\n",
              "    <tr>\n",
              "      <th>498</th>\n",
              "      <td>1916</td>\n",
              "      <td>32</td>\n",
              "      <td>Female</td>\n",
              "      <td>66504</td>\n",
              "      <td>3</td>\n",
              "      <td>0</td>\n",
              "      <td>2021-09-28</td>\n",
              "    </tr>\n",
              "    <tr>\n",
              "      <th>499</th>\n",
              "      <td>6210</td>\n",
              "      <td>65</td>\n",
              "      <td>Female</td>\n",
              "      <td>139797</td>\n",
              "      <td>10</td>\n",
              "      <td>0</td>\n",
              "      <td>2022-05-22</td>\n",
              "    </tr>\n",
              "  </tbody>\n",
              "</table>\n",
              "<p>500 rows × 7 columns</p>\n",
              "</div>\n",
              "      <button class=\"colab-df-convert\" onclick=\"convertToInteractive('df-22db4dfe-f01a-4cee-8245-9279030f09ed')\"\n",
              "              title=\"Convert this dataframe to an interactive table.\"\n",
              "              style=\"display:none;\">\n",
              "        \n",
              "  <svg xmlns=\"http://www.w3.org/2000/svg\" height=\"24px\"viewBox=\"0 0 24 24\"\n",
              "       width=\"24px\">\n",
              "    <path d=\"M0 0h24v24H0V0z\" fill=\"none\"/>\n",
              "    <path d=\"M18.56 5.44l.94 2.06.94-2.06 2.06-.94-2.06-.94-.94-2.06-.94 2.06-2.06.94zm-11 1L8.5 8.5l.94-2.06 2.06-.94-2.06-.94L8.5 2.5l-.94 2.06-2.06.94zm10 10l.94 2.06.94-2.06 2.06-.94-2.06-.94-.94-2.06-.94 2.06-2.06.94z\"/><path d=\"M17.41 7.96l-1.37-1.37c-.4-.4-.92-.59-1.43-.59-.52 0-1.04.2-1.43.59L10.3 9.45l-7.72 7.72c-.78.78-.78 2.05 0 2.83L4 21.41c.39.39.9.59 1.41.59.51 0 1.02-.2 1.41-.59l7.78-7.78 2.81-2.81c.8-.78.8-2.07 0-2.86zM5.41 20L4 18.59l7.72-7.72 1.47 1.35L5.41 20z\"/>\n",
              "  </svg>\n",
              "      </button>\n",
              "      \n",
              "  <style>\n",
              "    .colab-df-container {\n",
              "      display:flex;\n",
              "      flex-wrap:wrap;\n",
              "      gap: 12px;\n",
              "    }\n",
              "\n",
              "    .colab-df-convert {\n",
              "      background-color: #E8F0FE;\n",
              "      border: none;\n",
              "      border-radius: 50%;\n",
              "      cursor: pointer;\n",
              "      display: none;\n",
              "      fill: #1967D2;\n",
              "      height: 32px;\n",
              "      padding: 0 0 0 0;\n",
              "      width: 32px;\n",
              "    }\n",
              "\n",
              "    .colab-df-convert:hover {\n",
              "      background-color: #E2EBFA;\n",
              "      box-shadow: 0px 1px 2px rgba(60, 64, 67, 0.3), 0px 1px 3px 1px rgba(60, 64, 67, 0.15);\n",
              "      fill: #174EA6;\n",
              "    }\n",
              "\n",
              "    [theme=dark] .colab-df-convert {\n",
              "      background-color: #3B4455;\n",
              "      fill: #D2E3FC;\n",
              "    }\n",
              "\n",
              "    [theme=dark] .colab-df-convert:hover {\n",
              "      background-color: #434B5C;\n",
              "      box-shadow: 0px 1px 3px 1px rgba(0, 0, 0, 0.15);\n",
              "      filter: drop-shadow(0px 1px 2px rgba(0, 0, 0, 0.3));\n",
              "      fill: #FFFFFF;\n",
              "    }\n",
              "  </style>\n",
              "\n",
              "      <script>\n",
              "        const buttonEl =\n",
              "          document.querySelector('#df-22db4dfe-f01a-4cee-8245-9279030f09ed button.colab-df-convert');\n",
              "        buttonEl.style.display =\n",
              "          google.colab.kernel.accessAllowed ? 'block' : 'none';\n",
              "\n",
              "        async function convertToInteractive(key) {\n",
              "          const element = document.querySelector('#df-22db4dfe-f01a-4cee-8245-9279030f09ed');\n",
              "          const dataTable =\n",
              "            await google.colab.kernel.invokeFunction('convertToInteractive',\n",
              "                                                     [key], {});\n",
              "          if (!dataTable) return;\n",
              "\n",
              "          const docLinkHtml = 'Like what you see? Visit the ' +\n",
              "            '<a target=\"_blank\" href=https://colab.research.google.com/notebooks/data_table.ipynb>data table notebook</a>'\n",
              "            + ' to learn more about interactive tables.';\n",
              "          element.innerHTML = '';\n",
              "          dataTable['output_type'] = 'display_data';\n",
              "          await google.colab.output.renderOutput(dataTable, element);\n",
              "          const docLink = document.createElement('div');\n",
              "          docLink.innerHTML = docLinkHtml;\n",
              "          element.appendChild(docLink);\n",
              "        }\n",
              "      </script>\n",
              "    </div>\n",
              "  </div>\n",
              "  "
            ]
          },
          "metadata": {},
          "execution_count": 22
        }
      ],
      "source": [
        "import pandas as pd\n",
        "churn_table = pd.read_csv('https://storage.googleapis.com/datalynn-datasets/User_churn.csv')\n",
        "churn_table"
      ]
    },
    {
      "cell_type": "markdown",
      "metadata": {
        "id": "H4H01z5vjoSc"
      },
      "source": [
        "#Data Manipulation\n",
        "**Q1** In the context of customer churn analysis, you are tasked with understanding the gender distribution among churned customers. How would you calculate the number of male and female customers who have churned, and what insights can be derived from this analysis to inform business decisions?\n",
        "\n",
        "\n",
        "\n"
      ]
    },
    {
      "cell_type": "code",
      "execution_count": null,
      "metadata": {
        "colab": {
          "base_uri": "https://localhost:8080/"
        },
        "id": "xVGb7YdDREq2",
        "outputId": "8d8fc324-cc8e-4a70-f078-fd0b8d9760d1"
      },
      "outputs": [
        {
          "output_type": "stream",
          "name": "stdout",
          "text": [
            "Requirement already satisfied: pyspark in /usr/local/lib/python3.10/dist-packages (3.4.1)\n",
            "Requirement already satisfied: py4j==0.10.9.7 in /usr/local/lib/python3.10/dist-packages (from pyspark) (0.10.9.7)\n"
          ]
        }
      ],
      "source": [
        "!pip install pyspark"
      ]
    },
    {
      "cell_type": "code",
      "execution_count": null,
      "metadata": {
        "id": "f26lSQNleQc5"
      },
      "outputs": [],
      "source": [
        "from pyspark.sql import SparkSession\n",
        "\n",
        "spark = SparkSession.builder.getOrCreate()\n",
        "\n",
        "# Assuming the dataset is in a CSV format\n",
        "data = spark.read.csv('https://storage.googleapis.com/datalynn-datasets/User_churn.csv', header=True, inferSchema=True)"
      ]
    },
    {
      "cell_type": "code",
      "execution_count": null,
      "metadata": {
        "colab": {
          "base_uri": "https://localhost:8080/"
        },
        "id": "LeSyQm9NSfzk",
        "outputId": "b64cac0f-1821-4ea5-c12f-b6304874651d"
      },
      "outputs": [
        {
          "output_type": "stream",
          "name": "stdout",
          "text": [
            "+------+-----+\n",
            "|gender|count|\n",
            "+------+-----+\n",
            "|Female|  130|\n",
            "|  Male|  120|\n",
            "+------+-----+\n",
            "\n"
          ]
        }
      ],
      "source": [
        "# Filter the DataFrame to include only churned customers\n",
        "churned_customers = data.filter(data[\"churn\"] == 1)\n",
        "\n",
        "# Group the churned customers by gender and count the number of male and female customers\n",
        "gender_distribution = churned_customers.groupBy(\"gender\").count()\n",
        "\n",
        "# Display the number of male and female customers who have churned\n",
        "gender_distribution.show()\n"
      ]
    },
    {
      "cell_type": "markdown",
      "source": [
        "**Q2** In the context of customer churn analysis, your task is to analyze and classify departing customers into different loyalty groups and count the number of customers in each group. By doing so, you can gain insights into customer loyalty patterns and identify segments of customers who are more likely to churn."
      ],
      "metadata": {
        "id": "nQnJOFEbSrwZ"
      }
    },
    {
      "cell_type": "code",
      "source": [
        "from pyspark.sql.functions import when, col\n",
        "\n",
        "# Filter the DataFrame to include only churned customers\n",
        "churned_customers = data.filter(data[\"churn\"] == 1)\n",
        "\n",
        "# Divide departing customers into low, medium, and high loyalty groups\n",
        "loyalty_groups = churned_customers.withColumn(\"loyalty_group\",\n",
        "    when(col(\"loyalty\") < 4, \"Low\")\n",
        "    .when((col(\"loyalty\") >= 4) & (col(\"loyalty\") < 7), \"Medium\")\n",
        "    .otherwise(\"High\")\n",
        ")\n",
        "\n",
        "# Count the number of people in each loyalty group\n",
        "loyalty_counts = loyalty_groups.groupBy(\"loyalty_group\").count()\n",
        "\n",
        "# Display the count of people in each loyalty group\n",
        "loyalty_counts.show()"
      ],
      "metadata": {
        "colab": {
          "base_uri": "https://localhost:8080/"
        },
        "id": "B6DHURK1S1ZP",
        "outputId": "9f1f4e58-4db5-429b-c3c1-0169dd3839b3"
      },
      "execution_count": null,
      "outputs": [
        {
          "output_type": "stream",
          "name": "stdout",
          "text": [
            "+-------------+-----+\n",
            "|loyalty_group|count|\n",
            "+-------------+-----+\n",
            "|         High|  105|\n",
            "|          Low|   76|\n",
            "|       Medium|   69|\n",
            "+-------------+-----+\n",
            "\n"
          ]
        }
      ]
    },
    {
      "cell_type": "markdown",
      "metadata": {
        "id": "jkzBTYFmlrJt"
      },
      "source": [
        "**Q3** In the context of customer churn analysis, you are tasked with calculating the average income for each male age group and compare. How can you determine the average income for each age group among male customers, and how does income affect churn?\n"
      ]
    },
    {
      "cell_type": "code",
      "execution_count": null,
      "metadata": {
        "colab": {
          "base_uri": "https://localhost:8080/"
        },
        "id": "1ENou8bQmDmg",
        "outputId": "68a6d592-ccdf-4bb6-825b-c3338936604c"
      },
      "outputs": [
        {
          "output_type": "stream",
          "name": "stdout",
          "text": [
            "+-----+---------+-----------------+\n",
            "|churn|age_group|       avg_income|\n",
            "+-----+---------+-----------------+\n",
            "|    1|      <30|88189.93548387097|\n",
            "|    0|      50+|94896.17391304347|\n",
            "|    0|    30-50|87789.12195121951|\n",
            "|    1|      50+|84595.86842105263|\n",
            "|    0|      <30|87366.91304347826|\n",
            "|    1|    30-50|77410.11764705883|\n",
            "+-----+---------+-----------------+\n",
            "\n"
          ]
        }
      ],
      "source": [
        "from pyspark.sql.functions import avg\n",
        "\n",
        "# Generate age_group column based on age\n",
        "data_with_age_group = data.withColumn(\"age_group\",\n",
        "                                      when(data[\"age\"] < 30, \"<30\")\n",
        "                                      .when((data[\"age\"] >= 30) & (data[\"age\"] <= 50), \"30-50\")\n",
        "                                      .otherwise(\"50+\"))\n",
        "\n",
        "# Filter the DataFrame to include only male customers\n",
        "male_customers = data_with_age_group.filter(data_with_age_group[\"gender\"] == \"Male\")\n",
        "\n",
        "# Group the male customers by churn and age_group, and calculate the average income for each group\n",
        "average_income_per_age_group = male_customers.groupBy(\"churn\", \"age_group\").agg(avg(\"income\").alias(\"avg_income\"))\n",
        "\n",
        "# Display the average income for each age group among male customers, grouped by churn\n",
        "average_income_per_age_group.show()"
      ]
    },
    {
      "cell_type": "markdown",
      "metadata": {
        "id": "OSCMSD4HmQOV"
      },
      "source": [
        "**Q4** When performing user churn analysis, how can you use Spark's window function to calculate the number of user churn per month? What insights can we gain by analyzing the number of churn per month, and how can we use this information to improve customer retention and business decisions?"
      ]
    },
    {
      "cell_type": "code",
      "execution_count": null,
      "metadata": {
        "colab": {
          "base_uri": "https://localhost:8080/"
        },
        "id": "HAwH3NLUav5g",
        "outputId": "ee795634-fd4c-4234-e961-203db82a8463"
      },
      "outputs": [
        {
          "output_type": "stream",
          "name": "stdout",
          "text": [
            "+----+-----+-----------+\n",
            "|year|month|churn_count|\n",
            "+----+-----+-----------+\n",
            "|2020|    6|          1|\n",
            "|2020|    6|          5|\n",
            "|2020|    6|          4|\n",
            "|2020|    6|          0|\n",
            "|2020|    6|          6|\n",
            "|2020|    6|          3|\n",
            "|2020|    7|          5|\n",
            "|2020|    7|          1|\n",
            "|2020|    7|          3|\n",
            "|2020|    7|          2|\n",
            "|2020|    7|          4|\n",
            "|2020|    7|          6|\n",
            "|2020|    8|          9|\n",
            "|2020|    8|          5|\n",
            "|2020|    8|          4|\n",
            "|2020|    8|          2|\n",
            "|2020|    8|          8|\n",
            "|2020|    8|          3|\n",
            "|2020|    8|          6|\n",
            "|2020|    8|          7|\n",
            "+----+-----+-----------+\n",
            "only showing top 20 rows\n",
            "\n"
          ]
        }
      ],
      "source": [
        "from pyspark.sql.functions import year, month, sum, col, to_date\n",
        "from pyspark.sql.window import Window\n",
        "\n",
        "# Convert the date column to a date type (assuming the column name is 'date')\n",
        "data = data.withColumn(\"creation_time\", to_date(col(\"creation_time\"), \"yyyy-MM-dd\"))\n",
        "\n",
        "# Create a window specification based on the 'date' column\n",
        "window_spec = Window.partitionBy(year(\"creation_time\"), month(\"creation_time\")).orderBy(\"creation_time\")\n",
        "\n",
        "# Calculate the churn count per month using the window function\n",
        "data_with_churn_count = data.withColumn(\"churn_count\", sum(\"churn\").over(window_spec))\n",
        "\n",
        "# Select the year, month, and churn_count columns\n",
        "churn_count_per_month = data_with_churn_count.select(year(\"creation_time\").alias(\"year\"), month(\"creation_time\").alias(\"month\"), \"churn_count\").distinct()\n",
        "\n",
        "# Sort the churn count per month in ascending order of the year\n",
        "churn_count_per_month = churn_count_per_month.orderBy(\"year\", \"month\")\n",
        "\n",
        "# Display the churn count per month\n",
        "churn_count_per_month.show()"
      ]
    },
    {
      "cell_type": "markdown",
      "metadata": {
        "id": "6Xv4rprURh8B"
      },
      "source": [
        "#Machine learning\n",
        "**Q5** As a data scientist, you have been tasked with developing a predictive model to identify customers who are likely to churn. How would you approach this task, considering the business problem of customer churn and the available dataset? Explain the steps you would take, including feature engineering, data preprocessing, model training, and evaluation. Also, discuss the potential business impact of accurately predicting customer churn and how it can inform retention strategies and drive business growth."
      ]
    },
    {
      "cell_type": "markdown",
      "source": [
        "###Data Preprocessing"
      ],
      "metadata": {
        "id": "aiGHoIxfMLS1"
      }
    },
    {
      "cell_type": "code",
      "execution_count": null,
      "metadata": {
        "colab": {
          "base_uri": "https://localhost:8080/"
        },
        "id": "mlCvHYseuRV9",
        "outputId": "4d23c30c-eae5-48df-be94-e026240222c1"
      },
      "outputs": [
        {
          "output_type": "stream",
          "name": "stdout",
          "text": [
            "+-----------+---+------+------+-------+-----+-------------+------------+\n",
            "|customer_id|age|gender|income|loyalty|churn|creation_time|gender_index|\n",
            "+-----------+---+------+------+-------+-----+-------------+------------+\n",
            "|       2824| 19|Female| 52098|      4|    0|   2020-12-27|         0.0|\n",
            "|       9935| 23|Female| 24165|      1|    0|   2021-08-22|         0.0|\n",
            "|       4811| 50|  Male| 93563|      4|    1|   2021-08-26|         1.0|\n",
            "|       8359| 55|Female|126093|      1|    0|   2022-10-14|         0.0|\n",
            "|       6574| 35|  Male| 48221|      6|    0|   2020-12-07|         1.0|\n",
            "|       7224| 24|Female|131082|      6|    1|   2020-08-28|         0.0|\n",
            "|       8527| 52|  Male|147548|      7|    0|   2022-01-22|         1.0|\n",
            "|       6925| 54|  Male|112349|      2|    0|   2021-09-10|         1.0|\n",
            "|       5741| 23|  Male|133571|      2|    1|   2021-12-22|         1.0|\n",
            "|       8428| 58|Female| 41319|      6|    1|   2021-08-04|         0.0|\n",
            "|       5374| 62|  Male| 99840|      3|    0|   2021-05-01|         1.0|\n",
            "|       8573| 42|Female|149698|      9|    0|   2022-03-27|         0.0|\n",
            "|       1916| 32|  Male|125518|      6|    1|   2021-12-01|         1.0|\n",
            "|       2084| 31|Female| 47869|      8|    1|   2022-12-27|         0.0|\n",
            "|       3340| 34|  Male| 52325|      9|    1|   2022-10-26|         1.0|\n",
            "|       7543| 41|  Male| 38131|      9|    1|   2020-12-04|         1.0|\n",
            "|       1771| 25|  Male|102240|      3|    1|   2020-10-09|         1.0|\n",
            "|       7304| 42|Female| 89352|      5|    0|   2021-01-21|         0.0|\n",
            "|       9797| 35|Female| 34621|      5|    1|   2021-04-20|         0.0|\n",
            "|       8433| 18|Female|147387|      9|    0|   2023-04-06|         0.0|\n",
            "+-----------+---+------+------+-------+-----+-------------+------------+\n",
            "only showing top 20 rows\n",
            "\n"
          ]
        }
      ],
      "source": [
        "from pyspark.ml.feature import OneHotEncoder, StringIndexer\n",
        "\n",
        "# One-Hot Encoding\n",
        "stringIndexer = StringIndexer(inputCol=\"gender\", outputCol=\"gender_index\")\n",
        "model = stringIndexer.fit(data)\n",
        "data = model.transform(data)\n",
        "data.show()"
      ]
    },
    {
      "cell_type": "markdown",
      "source": [
        "###Modeling and evaluation"
      ],
      "metadata": {
        "id": "q-22bPrHxM8L"
      }
    },
    {
      "cell_type": "code",
      "execution_count": null,
      "metadata": {
        "colab": {
          "base_uri": "https://localhost:8080/"
        },
        "id": "3XH29UN7aCTC",
        "outputId": "ef18f325-320b-42f0-dfae-b1b27d424727"
      },
      "outputs": [
        {
          "output_type": "stream",
          "name": "stdout",
          "text": [
            "Feature: age\t Importance: 0.36933213212248683\n",
            "Feature: gender_index\t Importance: 0.06212151804300232\n",
            "Feature: income\t Importance: 0.3775107229711441\n",
            "Feature: loyalty\t Importance: 0.1910356268633667\n",
            "Accuracy: 0.6081081081081081\n",
            "Classification Report:\n",
            "Precision (weighted): 0.6096822096822097\n",
            "Recall (weighted): 0.6081081081081081\n",
            "F1-Score (weighted): 0.6078933728248797\n"
          ]
        }
      ],
      "source": [
        "from pyspark.ml.feature import VectorAssembler\n",
        "from pyspark.ml.classification import RandomForestClassifier, GBTClassifier, LogisticRegression\n",
        "from pyspark.ml import Pipeline\n",
        "from pyspark.ml.evaluation import MulticlassClassificationEvaluator\n",
        "\n",
        "# Create a feature vector using relevant columns\n",
        "feature_columns = [\"age\", \"gender_index\", \"income\", \"loyalty\"]\n",
        "assembler = VectorAssembler(inputCols=feature_columns, outputCol=\"features\")\n",
        "\n",
        "# Split the data into training and test sets\n",
        "train_data, test_data = data.randomSplit([0.8, 0.2], seed=42)\n",
        "\n",
        "# Create a Gradient Boosted Tree classifier\n",
        "gbt = GBTClassifier(featuresCol=\"features\", labelCol=\"churn\")\n",
        "\n",
        "# Create a pipeline for data transformation and model training\n",
        "pipeline = Pipeline(stages=[assembler, gbt])\n",
        "\n",
        "# Fit the pipeline on the training data\n",
        "model = pipeline.fit(train_data)\n",
        "\n",
        "# Extract feature importance from the trained model\n",
        "importances = model.stages[-1].featureImportances\n",
        "\n",
        "# Print feature importance scores\n",
        "for feature, importance in zip(feature_columns, importances):\n",
        "    print(f\"Feature: {feature}\\t Importance: {importance}\")\n",
        "\n",
        "# Perform predictions on the test data\n",
        "predictions = model.transform(test_data)\n",
        "\n",
        "# Assuming 'predictions' is the DataFrame containing the predictions\n",
        "evaluator = MulticlassClassificationEvaluator(labelCol=\"churn\", predictionCol=\"prediction\", metricName=\"accuracy\")\n",
        "\n",
        "# Calculate accuracy\n",
        "accuracy = evaluator.evaluate(predictions)\n",
        "print(\"Accuracy:\", accuracy)\n",
        "\n",
        "# Calculate other metrics\n",
        "weightedPrecision = evaluator.evaluate(predictions, {evaluator.metricName: \"weightedPrecision\"})\n",
        "weightedRecall = evaluator.evaluate(predictions, {evaluator.metricName: \"weightedRecall\"})\n",
        "weightedF1 = evaluator.evaluate(predictions, {evaluator.metricName: \"f1\"})\n",
        "\n",
        "# Print the classification report\n",
        "print(\"Classification Report:\")\n",
        "print(\"Precision (weighted):\", weightedPrecision)\n",
        "print(\"Recall (weighted):\", weightedRecall)\n",
        "print(\"F1-Score (weighted):\", weightedF1)"
      ]
    },
    {
      "cell_type": "code",
      "source": [
        "# Close Spark\n",
        "spark.stop()"
      ],
      "metadata": {
        "id": "A0U_GYWNFvP1"
      },
      "execution_count": null,
      "outputs": []
    }
  ],
  "metadata": {
    "colab": {
      "provenance": []
    },
    "kernelspec": {
      "display_name": "Python 3",
      "name": "python3"
    },
    "language_info": {
      "name": "python"
    }
  },
  "nbformat": 4,
  "nbformat_minor": 0
}